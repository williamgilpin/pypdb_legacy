{
 "cells": [
  {
   "cell_type": "markdown",
   "metadata": {},
   "source": [
    "# pypdb demos\n",
    "\n",
    "This is a set of basic examples of the usage and outputs of the various individual functions included in. There are generally three types of functions:\n",
    "\n",
    "+ Functions that perform searches and return lists of PDB IDs\n",
    "+ Functions that get information about specific PDB IDs\n",
    "+ Other general-purpose lookup functions\n",
    "\n",
    "The list of supported search types, as well as the different types of information that can be returned for a given PDB ID, is large (and growing) and is enumerated in the docstrings of pypdb.py. The PDB allows a very wide range of different types of queries, and so any option that is not currently available can likely be implemented based on the structure of the query types that have already been implemented. Please submit feedback and pull requests on GitHub.\n",
    "\n",
    "**Another notebook in this directory, advanced_demos.ipynb, includes more in-depth usages of multiple functions**"
   ]
  },
  {
   "cell_type": "markdown",
   "metadata": {},
   "source": [
    "### Preamble"
   ]
  },
  {
   "cell_type": "code",
   "execution_count": 2,
   "metadata": {},
   "outputs": [
    {
     "name": "stdout",
     "output_type": "stream",
     "text": [
      "Populating the interactive namespace from numpy and matplotlib\n",
      "pypdb can't find BeautifulSoup. BLAST search results will not be parsed without this module.\n"
     ]
    }
   ],
   "source": [
    "%pylab inline\n",
    "from IPython.display import HTML\n",
    "\n",
    "## Import from local directory\n",
    "import sys\n",
    "sys.path.insert(0, '../pypdb')\n",
    "from pypdb import *\n",
    "\n",
    "## Import from installed package\n",
    "# from pypdb import *\n",
    "\n",
    "import pprint\n",
    "\n",
    "%load_ext autoreload\n",
    "%autoreload 2"
   ]
  },
  {
   "cell_type": "markdown",
   "metadata": {},
   "source": [
    "# Search functions that return lists of PDB IDs"
   ]
  },
  {
   "cell_type": "markdown",
   "metadata": {},
   "source": [
    "#### Get a list of PDBs for a specific search term"
   ]
  },
  {
   "cell_type": "code",
   "execution_count": 3,
   "metadata": {},
   "outputs": [
    {
     "name": "stdout",
     "output_type": "stream",
     "text": [
      "None\n"
     ]
    },
    {
     "name": "stderr",
     "output_type": "stream",
     "text": [
      "../pypdb/pypdb.py:205: UserWarning: Retrieval failed, returning None\n",
      "  warnings.warn(\"Retrieval failed, returning None\")\n"
     ]
    }
   ],
   "source": [
    "found_pdbs = Query('actin network').search()\n",
    "print(found_pdbs)"
   ]
  },
  {
   "cell_type": "markdown",
   "metadata": {},
   "source": [
    "#### Search by PubMed ID Number"
   ]
  },
  {
   "cell_type": "code",
   "execution_count": 4,
   "metadata": {},
   "outputs": [
    {
     "name": "stdout",
     "output_type": "stream",
     "text": [
      "None\n"
     ]
    }
   ],
   "source": [
    "found_pdbs = Query('27499440', 'PubmedIdQuery').search()\n",
    "print(found_pdbs)"
   ]
  },
  {
   "cell_type": "markdown",
   "metadata": {},
   "source": [
    "#### Search by source organism using NCBI TaxId"
   ]
  },
  {
   "cell_type": "code",
   "execution_count": 5,
   "metadata": {},
   "outputs": [
    {
     "name": "stderr",
     "output_type": "stream",
     "text": [
      "../pypdb/pypdb.py:1679: UserWarning: Server error encountered. Retrying\n",
      "  warnings.warn(\"Server error encountered. Retrying\")\n"
     ]
    },
    {
     "ename": "TypeError",
     "evalue": "'NoneType' object is not subscriptable",
     "output_type": "error",
     "traceback": [
      "\u001b[0;31m---------------------------------------------------------------------------\u001b[0m",
      "\u001b[0;31mTypeError\u001b[0m                                 Traceback (most recent call last)",
      "\u001b[0;32m<ipython-input-5-c2066034bc0d>\u001b[0m in \u001b[0;36m<module>\u001b[0;34m\u001b[0m\n\u001b[1;32m      1\u001b[0m \u001b[0mfound_pdbs\u001b[0m \u001b[0;34m=\u001b[0m \u001b[0mQuery\u001b[0m\u001b[0;34m(\u001b[0m\u001b[0;34m'6239'\u001b[0m\u001b[0;34m,\u001b[0m \u001b[0;34m'TreeEntityQuery'\u001b[0m\u001b[0;34m)\u001b[0m\u001b[0;34m.\u001b[0m\u001b[0msearch\u001b[0m\u001b[0;34m(\u001b[0m\u001b[0;34m)\u001b[0m \u001b[0;31m#TaxID for C elegans\u001b[0m\u001b[0;34m\u001b[0m\u001b[0;34m\u001b[0m\u001b[0m\n\u001b[0;32m----> 2\u001b[0;31m \u001b[0mprint\u001b[0m\u001b[0;34m(\u001b[0m\u001b[0mfound_pdbs\u001b[0m\u001b[0;34m[\u001b[0m\u001b[0;34m:\u001b[0m\u001b[0;36m5\u001b[0m\u001b[0;34m]\u001b[0m\u001b[0;34m)\u001b[0m\u001b[0;34m\u001b[0m\u001b[0;34m\u001b[0m\u001b[0m\n\u001b[0m",
      "\u001b[0;31mTypeError\u001b[0m: 'NoneType' object is not subscriptable"
     ]
    }
   ],
   "source": [
    "found_pdbs = Query('6239', 'TreeEntityQuery').search() #TaxID for C elegans\n",
    "print(found_pdbs[:5])"
   ]
  },
  {
   "cell_type": "markdown",
   "metadata": {},
   "source": [
    "#### Search by a specific modified structure"
   ]
  },
  {
   "cell_type": "code",
   "execution_count": 42,
   "metadata": {},
   "outputs": [
    {
     "name": "stdout",
     "output_type": "stream",
     "text": [
      "['1B5F', '1UMS', '1VQL', '1VQM', '2NCN', '2RCJ', '3U4W', '3U51', '3WFF', '4GLQ', '4N2P', '4O89', '4O8J', '5F4Z', '5INJ', '5K9M', '5TJD', '5UHJ', '5UMP', '5UMQ']\n"
     ]
    }
   ],
   "source": [
    "found_pdbs = Query('3W3D', query_type='ModifiedStructuresQuery').search()\n",
    "print(found_pdbs[:20])"
   ]
  },
  {
   "cell_type": "markdown",
   "metadata": {},
   "source": [
    "#### Search by Motif"
   ]
  },
  {
   "cell_type": "code",
   "execution_count": 46,
   "metadata": {},
   "outputs": [
    {
     "name": "stdout",
     "output_type": "stream",
     "text": [
      "['3LEZ:1', '3SGH:1', '4F47:1']\n"
     ]
    }
   ],
   "source": [
    "found_pdbs = Query('T[AG]AGGY', query_type='MotifQuery').search()\n",
    "print(found_pdbs)"
   ]
  },
  {
   "cell_type": "markdown",
   "metadata": {},
   "source": [
    "#### Perform BLAST search by sequence, return PDB IDs and scores"
   ]
  },
  {
   "cell_type": "code",
   "execution_count": 6,
   "metadata": {},
   "outputs": [
    {
     "name": "stdout",
     "output_type": "stream",
     "text": [
      "[('6TQM', 2.47447e-149), ('6TQH', 2.47447e-149), ('6AHC', 2.47447e-149), ('3MY7', 5.90674e-141), ('5J7I', 1.75626e-94), ('5J78', 1.75626e-94), ('3K9D', 5.03559e-87), ('4C3S', 1.91697e-51), ('5DRU', 7.16394e-51), ('5DBV', 2.61106e-50), ('5JFM', 1.05402e-42), ('5JFL', 1.05402e-42), ('5JFN', 1.78346e-41), ('6GVS', 3.12013e-40)]\n"
     ]
    }
   ],
   "source": [
    "ids_and_scores = blast_from_sequence('MTKIANKYEVIDNVEKLEKALKRLREAQSVYATYTQEQVDKIFFEAAMAANKMRIPLAKMAVE'\n",
    "                                     + 'ETGMGVVEDKVIKNHYASEYIYNAYKNTKTCGVIEEDPAFGIKKIAEPLGVIAAVIPTTNP'\n",
    "                                     + 'TSTAIFKTLIALKTRNAIIISPHPRAKNSTIEAAKIVLEAAVKAGAPEGIIGWIDVPSLEL'\n",
    "                                     + 'TNLVMREADVILATGGPGLVKAAYSSGKPAIGVGAGNTPAIIDDSADIVLAVNSIIHSKTF'\n",
    "                                     + 'DNGMICASEQSVIVLDGVYKEVKKEFEKRGCYFLNEDETEKVRKTIIINGALNAKIVGQKA'\n",
    "                                     + 'HTIANLAGFEVPETTKILIGEVTSVDISEEFAHEKLCPVLAMYRAKDFDDALDKAERLVAD'\n",
    "                                     + 'GGFGHTSSLYIDTVTQKEKLQKFSERMKTCRILVNTPSSQGGIGDLYNFKLAPSL',\n",
    "                                         1e-20)\n",
    "print(ids_and_scores )"
   ]
  },
  {
   "cell_type": "markdown",
   "metadata": {},
   "source": [
    "#### Search by a specific experimental method"
   ]
  },
  {
   "cell_type": "code",
   "execution_count": 67,
   "metadata": {},
   "outputs": [
    {
     "name": "stdout",
     "output_type": "stream",
     "text": [
      "['1CEK', '1EQ8', '1M8M', '1MAG', '1MP6', '1MZT', '1NH4', '1NYJ', '1PI7', '1PI8', '1PJD', '1PJE', '1PJF', '1Q7O', '1RVS', '1XSW', '1ZN5', '1ZY6', '2C0X', '2CZP', '2E8D', '2H3O', '2H95', '2JSV', '2JU6', '2JZZ', '2K0P', '2KAD', '2KB7', '2KHT', '2KIB', '2KJ3', '2KLR', '2KQ4', '2KQT', '2KRJ', '2KSJ', '2KWD', '2KYV', '2L0J', '2L3Z', '2LBU', '2LEG', '2LGI', '2LJ2', '2LME', '2LMN', '2LMO', '2LMP', '2LMQ', '2LNL', '2LNQ', '2LNY', '2LPZ', '2LTQ', '2LU5', '2M02', '2M3B', '2M3G', '2M4J', '2M5K', '2M5M', '2M5N', '2M67', '2MC7', '2MCU', '2MCV', '2MCW', '2MCX', '2MEX', '2MJZ', '2MME', '2MMU', '2MPX', '2MPZ', '2MS7', '2MSG', '2MTZ', '2MVX', '2MXU', '2N0A', '2N0R', '2N1E', '2N1F', '2N28', '2N3D', '2N70', '2N7H', '2NNT', '2RLZ', '2UVS', '2W0N', '2XKM', '3J07', '3ZPK', '5IRT', '5JR0', '5JXV', '5JZR', '5KK3', '5LCB', '5MWV', '5UGK', '5UK6', '5V7Z', '5W3N', '6DLN', '6EKA', '6EWU', '6F3K', '6F3V', '6F3W', '6F3X', '6F3Y', '6GVT', '6NZN', '6OC9', '6QEB']\n"
     ]
    }
   ],
   "source": [
    "found_pdbs = Query('SOLID-STATE NMR', query_type='ExpTypeQuery').search()\n",
    "print(found_pdbs)"
   ]
  },
  {
   "cell_type": "markdown",
   "metadata": {},
   "source": [
    "#### Search by protein symmetry group"
   ]
  },
  {
   "cell_type": "code",
   "execution_count": 43,
   "metadata": {},
   "outputs": [
    {
     "name": "stdout",
     "output_type": "stream",
     "text": [
      "['1KZU', '1NKZ', '2FKW', '3B8M', '3B8N']\n"
     ]
    }
   ],
   "source": [
    "kk = do_protsym_search('C9', min_rmsd=0.0, max_rmsd=1.0)\n",
    "print(kk[:5])"
   ]
  },
  {
   "cell_type": "markdown",
   "metadata": {},
   "source": [
    "#### Search by Author"
   ]
  },
  {
   "cell_type": "code",
   "execution_count": 55,
   "metadata": {},
   "outputs": [
    {
     "name": "stdout",
     "output_type": "stream",
     "text": [
      "['1CQ4', '1FDH', '1GDJ', '1HDA', '1PBX', '2DHB', '2GDM', '2HHB', '2MHB', '3HHB', '4HHB']\n"
     ]
    }
   ],
   "source": [
    "found_pdbs = Query('Perutz, M.F.', query_type='AdvancedAuthorQuery').search()\n",
    "print(found_pdbs)"
   ]
  },
  {
   "cell_type": "markdown",
   "metadata": {},
   "source": [
    "#### Search by whether for entries with free ligands"
   ]
  },
  {
   "cell_type": "code",
   "execution_count": 71,
   "metadata": {},
   "outputs": [
    {
     "name": "stdout",
     "output_type": "stream",
     "text": [
      "['100D', '101D', '101M', '102D', '102L', '102M', '103L', '103M', '104M', '105M']\n"
     ]
    }
   ],
   "source": [
    "found_pdbs = Query('', query_type='NoLigandQuery').search()\n",
    "print(found_pdbs[:10])"
   ]
  },
  {
   "cell_type": "markdown",
   "metadata": {},
   "source": [
    "#### Search by organism"
   ]
  },
  {
   "cell_type": "code",
   "execution_count": 38,
   "metadata": {},
   "outputs": [
    {
     "name": "stdout",
     "output_type": "stream",
     "text": [
      "['1B4S', '1B99', '1BUX', '1C0F', '1C0G', '1D0X', '1D0Y', '1D0Z', '1D1A', '1D1B']\n"
     ]
    }
   ],
   "source": [
    "q = Query(\"Dicty\", query_type=\"OrganismQuery\")\n",
    "print(q.search()[:10])"
   ]
  },
  {
   "cell_type": "markdown",
   "metadata": {},
   "source": [
    "# Information Search functions\n",
    "While the basic functions described in the previous section are useful for looking up and manipulating individual unique entries, these functions are intended to be more user-facing: they take search keywords and return lists of authors or dates"
   ]
  },
  {
   "cell_type": "markdown",
   "metadata": {},
   "source": [
    "#### Find most common authors for a given keyword"
   ]
  },
  {
   "cell_type": "code",
   "execution_count": 14,
   "metadata": {},
   "outputs": [
    {
     "name": "stdout",
     "output_type": "stream",
     "text": [
      "['Doudna, J.A.', 'Jinek, M.', 'Li, H.', 'Nam, K.H.', 'Ke, A.']\n"
     ]
    }
   ],
   "source": [
    "top_authors = find_authors('crispr', max_results=100)\n",
    "pprint.pprint(top_authors[:5])"
   ]
  },
  {
   "cell_type": "markdown",
   "metadata": {},
   "source": [
    "#### Find papers for a given keyword"
   ]
  },
  {
   "cell_type": "code",
   "execution_count": 73,
   "metadata": {},
   "outputs": [
    {
     "name": "stdout",
     "output_type": "stream",
     "text": [
      "['Crystal structure of a CRISPR-associated protein from thermus thermophilus',\n",
      " 'Crystal structure of hypothetical protein sso1404 from Sulfolobus '\n",
      " 'solfataricus P2',\n",
      " 'NMR solution structure of a CRISPR repeat binding protein']\n"
     ]
    }
   ],
   "source": [
    "matching_papers = find_papers('crispr',max_results=3)\n",
    "pprint.pprint(matching_papers)"
   ]
  },
  {
   "cell_type": "markdown",
   "metadata": {},
   "source": [
    "#### Retrieve all PDB IDs"
   ]
  },
  {
   "cell_type": "code",
   "execution_count": 11,
   "metadata": {},
   "outputs": [
    {
     "name": "stdout",
     "output_type": "stream",
     "text": [
      "['100D', '101D', '101M', '102D', '102L', '102M', '103D', '103L', '103M', '104D']\n"
     ]
    }
   ],
   "source": [
    "print(get_all()[:10])"
   ]
  },
  {
   "cell_type": "markdown",
   "metadata": {},
   "source": [
    "# Functions that return information about single PDB IDs"
   ]
  },
  {
   "cell_type": "markdown",
   "metadata": {},
   "source": [
    "#### Get the full PDB file"
   ]
  },
  {
   "cell_type": "code",
   "execution_count": 7,
   "metadata": {},
   "outputs": [
    {
     "name": "stdout",
     "output_type": "stream",
     "text": [
      "data_4LZA\n",
      "# \n",
      "_entry.id   4LZA \n",
      "# \n",
      "_audit_conform.dict_name       mmcif_pdbx.dic \n",
      "_audit_conform.dict_version    5.281 \n",
      "_audit_conform.dict_location   http://mmcif.pdb.org/dictionaries/ascii/mmcif_pdbx.dic \n",
      "# \n",
      "loop_\n",
      "_database_2.database_id \n",
      "_database_2.database_code \n",
      "PDB   4LZA         \n",
      "RCSB  RCSB081269   \n",
      "WWPDB D_1000081269 \n",
      "# \n",
      "_pdbx_database_related.db_name        TargetTrack \n",
      "_pdbx_database_rela\n"
     ]
    }
   ],
   "source": [
    "pdb_file = get_pdb_file('4lza', filetype='cif', compression=False)\n",
    "print(pdb_file[:400])"
   ]
  },
  {
   "cell_type": "markdown",
   "metadata": {},
   "source": [
    "#### Get a general description of the entry's metadata"
   ]
  },
  {
   "cell_type": "code",
   "execution_count": 8,
   "metadata": {},
   "outputs": [
    {
     "data": {
      "text/plain": [
       "{'structureId': '4LZA',\n",
       " 'title': 'Crystal structure of adenine phosphoribosyltransferase from Thermoanaerobacter pseudethanolicus ATCC 33223, NYSGRC Target 029700.',\n",
       " 'expMethod': 'X-RAY DIFFRACTION',\n",
       " 'resolution': '1.84',\n",
       " 'keywords': 'TRANSFERASE',\n",
       " 'nr_entities': '1',\n",
       " 'nr_residues': '390',\n",
       " 'nr_atoms': '2681',\n",
       " 'deposition_date': '2013-07-31',\n",
       " 'release_date': '2013-08-14',\n",
       " 'last_modification_date': '2013-08-14',\n",
       " 'structure_authors': 'Malashkevich, V.N., Bhosle, R., Toro, R., Hillerich, B., Gizzi, A., Garforth, S., Kar, A., Chan, M.K., Lafluer, J., Patel, H., Matikainen, B., Chamala, S., Lim, S., Celikgil, A., Villegas, G., Evans, B., Love, J., Fiser, A., Khafizov, K., Seidel, R., Bonanno, J.B., Almo, S.C., New York Structural Genomics Research Consortium (NYSGRC)',\n",
       " 'citation_authors': 'Malashkevich, V.N., Bhosle, R., Toro, R., Hillerich, B., Gizzi, A., Garforth, S., Kar, A., Chan, M.K., Lafluer, J., Patel, H., Matikainen, B., Chamala, S., Lim, S., Celikgil, A., Villegas, G., Evans, B., Love, J., Fiser, A., Khafizov, K., Seidel, R., Bonanno, J.B., Almo, S.C.',\n",
       " 'status': 'CURRENT'}"
      ]
     },
     "execution_count": 8,
     "metadata": {},
     "output_type": "execute_result"
    }
   ],
   "source": [
    "describe_pdb('4lza')"
   ]
  },
  {
   "cell_type": "markdown",
   "metadata": {},
   "source": [
    "#### Get all of the information deposited in a PDB entry"
   ]
  },
  {
   "cell_type": "code",
   "execution_count": 9,
   "metadata": {},
   "outputs": [
    {
     "name": "stdout",
     "output_type": "stream",
     "text": [
      "{'polymer': {'@entityNr': '1', '@length': '195', '@type': 'protein', '@weight': '22023.7', 'chain': [{'@id': 'A'}, {'@id': 'B'}], 'Taxonomy': {'@name': 'Thermoanaerobacter pseudethanolicus', '@id': '496866'}, 'synonym': {'@name': 'APRT'}, 'macroMolecule': {'@name': 'Adenine phosphoribosyltransferase', 'accession': {'@id': 'B0K969'}}, 'polymerDescription': {'@description': 'Adenine phosphoribosyltransferase'}, 'enzClass': {'@ec': '2.4.2.7'}}, 'id': '4LZA'}\n"
     ]
    }
   ],
   "source": [
    "all_info = get_all_info('4lza')\n",
    "print(all_info)"
   ]
  },
  {
   "cell_type": "code",
   "execution_count": 135,
   "metadata": {},
   "outputs": [
    {
     "data": {
      "text/plain": [
       "{'@description': \"5'-D(*AP*GP*GP*TP*AP*GP*AP*CP*CP*TP*GP*GP*AP*CP*GP*C)-3'\"}"
      ]
     },
     "execution_count": 135,
     "metadata": {},
     "output_type": "execute_result"
    }
   ],
   "source": [
    "results = get_all_info('2F5N')\n",
    "first_polymer = results['polymer'][0]\n",
    "first_polymer['polymerDescription']"
   ]
  },
  {
   "cell_type": "markdown",
   "metadata": {},
   "source": [
    "#### Run a BLAST search on a PDB ID"
   ]
  },
  {
   "cell_type": "markdown",
   "metadata": {},
   "source": [
    "There are several options here: One function, get_blast(), returns a dict() just like every other function. However, all the metadata associated with this function leads to deeply-nested dictionaries. A simpler function, get_blast2(), uses text parsing on the raw output page, and it returns a tuple consisting of 1. a ranked list of other PDB IDs that were hits, and 2. A list of the actual BLAST alignments and similarity scores."
   ]
  },
  {
   "cell_type": "code",
   "execution_count": 138,
   "metadata": {},
   "outputs": [
    {
     "name": "stdout",
     "output_type": "stream",
     "text": [
      "PELPEVETVRRELEKRIVGQKIISIEATYPRMVL--TGFEQLKKELTGKTIQGISRRGKYLIFEIGDDFRLISHLRMEGKYRLATLDAPREKHDHLTMKFADG-QLIYADVRKFGTWELISTDQVLPYFLKKKIGPEPTYEDFDEKLFREKLRKSTKKIKPYLLEQTLVAGLGNIYVDEVLWLAKIHPEKETNQLIESSIHLLHDSIIEILQKAIKLGGSSIRTY-SALGSTGKMQNELQVYGKTGEKCSRCGAEIQKIKVAGRGTHFCPVCQQ\n"
     ]
    }
   ],
   "source": [
    "blast_results = get_blast('2F5N', chain_id='A')\n",
    "just_hits = blast_results['BlastOutput_iterations']['Iteration']['Iteration_hits']['Hit']\n",
    "print(just_hits[50]['Hit_hsps']['Hsp']['Hsp_hseq'])"
   ]
  },
  {
   "cell_type": "code",
   "execution_count": 139,
   "metadata": {},
   "outputs": [
    {
     "name": "stdout",
     "output_type": "stream",
     "text": [
      "Total Results: 96\n",
      "\n",
      "<pre>\n",
      "&gt;<a name=\"45278\"></a>2F5P:3:A|pdbid|entity|chain(s)|sequence\n",
      "          Length = 274\n",
      "\n",
      " Score =  545 bits (1404), Expect = e-155,   Method: Composition-based stats.\n",
      " Identities = 274/274 (100%), Positives = 274/274 (100%)\n",
      "\n",
      "Query: 1   MPELPEVETIRRTLLPLIVGKTIEDVRIFWPNIIRHPRDSEAFAARMIGQTVRGLERRGK 60\n",
      "           MPELPEVETIRRTLLPLIVGKTIEDVRIFWPNIIRHPRDSEAFAARMIGQTVRGLERRGK\n",
      "Sbjct: 1   MPELPEVETIRRTLLPLIVGKTIEDVRIFWPNIIRHPRDSEAFAARMIGQTVRGLERRGK 60\n",
      "\n",
      "Query: 61  FLKFLLDRDALISHLRMEGRYAVASALEPLEPHTHVVFCFTDGSELRYRDVRKFGTMHVY 120\n",
      "           FLKFLLDRDALISHLRMEGRYAVASALEPLEPHTHVVFCFTDGSELRYRDVRKFGTMHVY\n",
      "Sbjct: 61  FLKFLLDRDALISHLRMEGRYAVASALEPLEPHTHVVFCFTDGSELRYRDVRKFGTMHVY 120\n",
      "\n",
      "Query: 121 AKEEADRRPPLAELGPEPLSPAFSPAVLAERAVKTKRSVKALLLDCTVVAGFGNIYVDES 180\n",
      "           AKEEADRRPPLAELGPEPLSPAFSPAVLAERAVKTKRSVKALLLDCTVVAGFGNIYVDES\n",
      "Sbjct: 121 AKEEADRRPPLAELGPEPLSPAFSPAVLAERAVKTKRSVKALLLDCTVVAGFGNIYVDES 180\n",
      "\n",
      "Query: 181 LFRAGILPGRPAASLSSKEIERLHEEMVATIGEAVMKGGSTVRTYVNTQGEAGTFQHHLY 240\n",
      "           LFRAGILPGRPAASLSSKEIERLHEEMVATIGEAVMKGGSTVRTYVNTQGEAGTFQHHLY\n",
      "Sbjct: 181 LFRAGILPGRPAASLSSKEIERLHEEMVATIGEAVMKGGSTVRTYVNTQGEAGTFQHHLY 240\n",
      "\n",
      "Query: 241 VYGRQGNPCKRCGTPIEKTVVAGRGTHYCPRCQR 274\n",
      "           VYGRQGNPCKRCGTPIEKTVVAGRGTHYCPRCQR\n",
      "Sbjct: 241 VYGRQGNPCKRCGTPIEKTVVAGRGTHYCPRCQR 274\n",
      "</pre>\n"
     ]
    }
   ],
   "source": [
    "blast_results = get_blast2('2F5N', chain_id='A', output_form='HTML')\n",
    "print('Total Results: ' + str(len(blast_results[0])) +'\\n')\n",
    "pprint.pprint(blast_results[1][0])"
   ]
  },
  {
   "cell_type": "markdown",
   "metadata": {},
   "source": [
    "#### Get PFAM information about an entry"
   ]
  },
  {
   "cell_type": "code",
   "execution_count": 141,
   "metadata": {},
   "outputs": [
    {
     "name": "stdout",
     "output_type": "stream",
     "text": [
      "{'pfamHit': {'@structureId': '2LME', '@chainId': 'A', '@pdbResNumStart': '46', '@pdbResNumEnd': '105', '@pfamAcc': 'PF03895.14', '@pfamName': 'YadA_anchor', '@pfamDesc': 'YadA-like membrane anchor domain', '@eValue': '4.7E-16'}}\n"
     ]
    }
   ],
   "source": [
    "pfam_info = get_pfam('2LME')\n",
    "print(pfam_info)"
   ]
  },
  {
   "cell_type": "markdown",
   "metadata": {},
   "source": [
    "#### Get chemical info"
   ]
  },
  {
   "cell_type": "markdown",
   "metadata": {},
   "source": [
    "This function takes the name of the chemical, not a PDB ID"
   ]
  },
  {
   "cell_type": "code",
   "execution_count": 137,
   "metadata": {},
   "outputs": [
    {
     "name": "stdout",
     "output_type": "stream",
     "text": [
      "{'describeHet': {'ligandInfo': {'ligand': {'@chemicalID': 'NAG',\n",
      "                                           '@molecularWeight': '221.208',\n",
      "                                           '@type': 'D-saccharide',\n",
      "                                           'InChI': 'InChI=1S/C8H15NO6/c1-3(11)9-5-7(13)6(12)4(2-10)15-8(5)14/h4-8,10,12-14H,2H2,1H3,(H,9,11)/t4-,5-,6-,7-,8-/m1/s1',\n",
      "                                           'InChIKey': 'OVRNDRQMDRJTHS-FMDGEEDCSA-N',\n",
      "                                           'chemicalName': 'N-ACETYL-D-GLUCOSAMINE',\n",
      "                                           'formula': 'C8 H15 N O6',\n",
      "                                           'smiles': 'CC(=O)N[C@@H]1[C@H]([C@@H]([C@H](O[C@H]1O)CO)O)O'}}}}\n"
     ]
    }
   ],
   "source": [
    "chem_desc = describe_chemical('NAG')\n",
    "pprint.pprint(chem_desc)"
   ]
  },
  {
   "cell_type": "markdown",
   "metadata": {},
   "source": [
    "#### Get ligand info if present\n"
   ]
  },
  {
   "cell_type": "code",
   "execution_count": 21,
   "metadata": {},
   "outputs": [
    {
     "name": "stdout",
     "output_type": "stream",
     "text": [
      "{'id': '100D',\n",
      " 'ligandInfo': {'ligand': {'@chemicalID': 'SPM',\n",
      "                           '@molecularWeight': '202.34',\n",
      "                           '@structureId': '100D',\n",
      "                           '@type': 'non-polymer',\n",
      "                           'InChI': 'InChI=1S/C10H26N4/c11-5-3-9-13-7-1-2-8-14-10-4-6-12/h13-14H,1-12H2',\n",
      "                           'InChIKey': 'PFNFFQXMRSDOHW-UHFFFAOYSA-N',\n",
      "                           'chemicalName': 'SPERMINE',\n",
      "                           'formula': 'C10 H26 N4',\n",
      "                           'smiles': 'C(CCNCCCN)CNCCCN'}}}\n"
     ]
    }
   ],
   "source": [
    "ligand_dict = get_ligands('100D')\n",
    "pprint.pprint(ligand_dict)"
   ]
  },
  {
   "cell_type": "markdown",
   "metadata": {},
   "source": [
    "#### Get gene ontology info"
   ]
  },
  {
   "cell_type": "code",
   "execution_count": 22,
   "metadata": {},
   "outputs": [
    {
     "name": "stdout",
     "output_type": "stream",
     "text": [
      "{'@chainId': 'A',\n",
      " '@id': 'GO:0001516',\n",
      " '@structureId': '4Z0L',\n",
      " 'detail': {'@definition': 'The chemical reactions and pathways resulting in '\n",
      "                           'the formation of prostaglandins, any of a group of '\n",
      "                           'biologically active metabolites which contain a '\n",
      "                           'cyclopentane ring.',\n",
      "            '@name': 'prostaglandin biosynthetic process',\n",
      "            '@ontology': 'B',\n",
      "            '@synonyms': 'prostaglandin anabolism, prostaglandin biosynthesis, '\n",
      "                         'prostaglandin formation, prostaglandin synthesis'}}\n"
     ]
    }
   ],
   "source": [
    "gene_info = get_gene_onto('4Z0L ')\n",
    "pprint.pprint(gene_info['term'][0])"
   ]
  },
  {
   "cell_type": "markdown",
   "metadata": {},
   "source": [
    "#### Get sequence clusters by chain"
   ]
  },
  {
   "cell_type": "code",
   "execution_count": 23,
   "metadata": {},
   "outputs": [
    {
     "name": "stdout",
     "output_type": "stream",
     "text": [
      "[{'@name': '6FL1.A', '@rank': '1'},\n",
      " {'@name': '4PD2.A', '@rank': '2'},\n",
      " {'@name': '3U6P.A', '@rank': '3'},\n",
      " {'@name': '4PCZ.A', '@rank': '4'},\n",
      " {'@name': '3GPU.A', '@rank': '5'},\n",
      " {'@name': '3JR5.A', '@rank': '6'},\n",
      " {'@name': '3SAU.A', '@rank': '7'},\n",
      " {'@name': '3GQ4.A', '@rank': '8'},\n",
      " {'@name': '6H0S.A', '@rank': '9'},\n",
      " {'@name': '1R2Z.A', '@rank': '10'}]\n"
     ]
    }
   ],
   "source": [
    "sclust = get_seq_cluster('2F5N.A')\n",
    "pprint.pprint(sclust['pdbChain'][:10]) # Just look at the top 10"
   ]
  },
  {
   "cell_type": "markdown",
   "metadata": {},
   "source": [
    "#### Get the representative for a chain"
   ]
  },
  {
   "cell_type": "code",
   "execution_count": 68,
   "metadata": {},
   "outputs": [
    {
     "name": "stdout",
     "output_type": "stream",
     "text": [
      "{'pdbChain': {'@name': '1GZS.b'}}\n"
     ]
    }
   ],
   "source": [
    "clusts = get_clusters('1R9K')\n",
    "print(clusts)"
   ]
  },
  {
   "cell_type": "markdown",
   "metadata": {},
   "source": [
    "#### List all taxa associated with a list of IDs"
   ]
  },
  {
   "cell_type": "code",
   "execution_count": 24,
   "metadata": {},
   "outputs": [
    {
     "name": "stdout",
     "output_type": "stream",
     "text": [
      "['Thermus thermophilus',\n",
      " 'Saccharolobus solfataricus',\n",
      " 'Hyperthermus butylicus',\n",
      " 'Pseudomonas phage JBD30',\n",
      " 'Saccharolobus solfataricus',\n",
      " 'Pseudomonas aeruginosa',\n",
      " 'Pseudomonas aeruginosa',\n",
      " 'Pseudomonas aeruginosa',\n",
      " 'Saccharolobus solfataricus',\n",
      " 'Thermus thermophilus']\n"
     ]
    }
   ],
   "source": [
    "crispr_results = Query('crispr').search()\n",
    "pprint.pprint(list_taxa(crispr_results[:10]))"
   ]
  },
  {
   "cell_type": "markdown",
   "metadata": {},
   "source": [
    "#### List data types with a list of IDs"
   ]
  },
  {
   "cell_type": "code",
   "execution_count": 26,
   "metadata": {},
   "outputs": [
    {
     "name": "stdout",
     "output_type": "stream",
     "text": [
      "['protein',\n",
      " 'protein',\n",
      " 'protein',\n",
      " 'protein',\n",
      " 'protein',\n",
      " 'rna',\n",
      " 'rna',\n",
      " 'rna',\n",
      " 'protein',\n",
      " 'rna',\n",
      " 'rna',\n",
      " 'rna',\n",
      " 'protein',\n",
      " 'protein',\n",
      " 'protein',\n",
      " 'protein',\n",
      " 'protein',\n",
      " 'protein',\n",
      " 'rna',\n",
      " 'protein']\n"
     ]
    }
   ],
   "source": [
    "crispr_results = Query('crispr').search()\n",
    "pprint.pprint(list_types(crispr_results[:20]))"
   ]
  },
  {
   "cell_type": "markdown",
   "metadata": {},
   "source": [
    "# Other functions"
   ]
  },
  {
   "cell_type": "markdown",
   "metadata": {},
   "source": [
    "#### Perform BLAST search by sequence, return raw BLAST"
   ]
  },
  {
   "cell_type": "code",
   "execution_count": 32,
   "metadata": {},
   "outputs": [
    {
     "name": "stdout",
     "output_type": "stream",
     "text": [
      "<HTML>\n",
      "<TITLE>BLAST Search Results</TITLE>\n",
      "<BODY BGCOLOR=\"#FFFFFF\" LINK=\"#0000FF\" VLINK=\"#660099\" ALINK=\"#660099\">\n",
      "<PRE>\n",
      "<b>BLASTP 2.2.18 [Mar-02-2008]</b>\n",
      "\n",
      "\n",
      "<b><a href=\"http://www.ncbi.nlm.nih.gov/entrez/query.fcgi?db=PubMed&cmd=Retrieve&list_uids\n",
      "=9254694&dopt=Citation\">Reference</a>:</b>\n",
      "Altschul, Stephen F., Thomas L. Madden, Alejandro A. Sch&auml;ffer, \n",
      "Jinghui Zhang, Zheng Zhang, Webb Miller, and David J. Lipman (1997), \n",
      "\"Gapped BLAST and PSI-BLAST: a new generation of protein database search\n",
      "programs\",  Nucleic Acids Res. 25:3389-3402.\n",
      "\n",
      "<b><a href=\"http://www.ncbi.nlm.nih.gov/entrez/query.fcgi?db=PubMed&cmd=Retrieve&list_uids\n",
      "=11452024&dopt=Citation\">Reference for composition-based statistics</a>:</b>\n",
      "Sch&auml;ffer, Alejandro A., L. Aravind, Thomas L. Madden, \n",
      "Schaffer, Alejandro A., L. Aravind, Thomas L. Madden,\n",
      "Sergei Shavirin, John L. Spouge, Yuri I. Wolf,  \n",
      "Eugene V. Koonin, and Stephen F. Altschul (2001), \n",
      "\"Improving the accuracy of PSI-BLAST protein database searches with \n"
     ]
    }
   ],
   "source": [
    "raw_blast = blast_from_sequence_full('MTKIANKYEVIDNVEKLEKALKRLREAQSVYATYTQEQVDKIFFEAAMAANKMRIPLAKMAVE'\n",
    "                         + 'ETGMGVVEDKVIKNHYASEYIYNAYKNTKTCGVIEEDPAFGIKKIAEPLGVIAAVIPTTNP'\n",
    "                         + 'TSTAIFKTLIALKTRNAIIISPHPRAKNSTIEAAKIVLEAAVKAGAPEGIIGWIDVPSLEL'\n",
    "                         + 'TNLVMREADVILATGGPGLVKAAYSSGKPAIGVGAGNTPAIIDDSADIVLAVNSIIHSKTF'\n",
    "                         + 'DNGMICASEQSVIVLDGVYKEVKKEFEKRGCYFLNEDETEKVRKTIIINGALNAKIVGQKA'\n",
    "                         + 'HTIANLAGFEVPETTKILIGEVTSVDISEEFAHEKLCPVLAMYRAKDFDDALDKAERLVAD'\n",
    "                         + 'GGFGHTSSLYIDTVTQKEKLQKFSERMKTCRILVNTPSSQGGIGDLYNFKLAPSL',\n",
    "                             1e-20, output_form='HTML')\n",
    "print(raw_blast[:1000])"
   ]
  },
  {
   "cell_type": "code",
   "execution_count": null,
   "metadata": {},
   "outputs": [],
   "source": []
  }
 ],
 "metadata": {
  "kernelspec": {
   "display_name": "Python 3",
   "language": "python",
   "name": "python3"
  },
  "language_info": {
   "codemirror_mode": {
    "name": "ipython",
    "version": 3
   },
   "file_extension": ".py",
   "mimetype": "text/x-python",
   "name": "python",
   "nbconvert_exporter": "python",
   "pygments_lexer": "ipython3",
   "version": "3.8.5"
  }
 },
 "nbformat": 4,
 "nbformat_minor": 4
}
