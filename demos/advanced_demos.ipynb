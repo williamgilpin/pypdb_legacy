{
 "cells": [
  {
   "cell_type": "markdown",
   "metadata": {},
   "source": [
    "# pypdb advanced demos\n",
    "\n",
    "This is a set of basic examples of the ways that algorithmic querying with pypdb can be used to perform advanced search tasks. Most of these examples combine multiple functions in the API in order to perform searches based on the results of previous searches"
   ]
  },
  {
   "cell_type": "markdown",
   "metadata": {},
   "source": [
    "### Preamble"
   ]
  },
  {
   "cell_type": "code",
   "execution_count": 1,
   "metadata": {
    "scrolled": true
   },
   "outputs": [
    {
     "name": "stdout",
     "output_type": "stream",
     "text": [
      "Populating the interactive namespace from numpy and matplotlib\n"
     ]
    }
   ],
   "source": [
    "%pylab inline\n",
    "from IPython.display import HTML\n",
    "\n",
    "# Import from local directory\n",
    "import sys\n",
    "sys.path.insert(0, '../pypdb')\n",
    "from pypdb import *\n",
    "\n",
    "## Import from installed package\n",
    "# from pypdb import *\n",
    "\n",
    "import pprint"
   ]
  },
  {
   "cell_type": "markdown",
   "metadata": {},
   "source": [
    "### Look up structural information about the results of a BLAST search"
   ]
  },
  {
   "cell_type": "code",
   "execution_count": 4,
   "metadata": {},
   "outputs": [
    {
     "name": "stdout",
     "output_type": "stream",
     "text": [
      "Structure of Thermus Thermophilus Cse3 bound to an RNA representing a product complex\n",
      "Structure of Thermus Thermophilus Cse3 bound to an RNA representing a pre-cleavage complex\n",
      "Structure of Thermus Thermophilus Cse3 bound to an RNA representing a product mimic complex\n",
      "Structure A of CRISPR endoribonuclease Cse3 bound to 19 nt RNA\n",
      "Structure B of CRISPR endoribonuclease Cse3 bound to 19 nt RNA\n",
      "Structure of CRISPR endoribonuclease Cse3 bound to 20 nt RNA\n",
      "Crystal structure of a CRISPR-associated protein from thermus thermophilus\n",
      "Crystal structure of E. coli Cascade bound to a PAM-containing dsDNA target at 2.45 angstrom resolution.\n",
      "Crystal structure of E. coli Cascade bound to a PAM-containing dsDNA target (32-nt spacer) at 3.20 angstrom resolution.\n",
      "The Type IE CRISPR Cascade complex from E. coli, with two assemblies in the asymmetric unit arranged back-to-back\n",
      "Crystal structure of the E. coli CRISPR RNA-guided surveillance complex, Cascade\n",
      "Crystal structure of a CRISPR RNA-guided surveillance complex, Cascade, bound to a ssDNA target\n",
      "Crystal structure of RNA-guided immune Cascade complex from E.coli\n",
      "Crystal structure of the CRISPR-associated protein Cas6e from Escherichia coli str. K-12\n",
      "CRISPR RNA-guided surveillance complex, pre-nicking\n",
      "CRISPR RNA-guided surveillance complex\n",
      "CRISPR RNA-guided surveillance complex\n"
     ]
    }
   ],
   "source": [
    "# Search for PDB IDs related to CRISPR\n",
    "crispr_query = Query('crispr').search()\n",
    "\n",
    "# Run BLAST on the top result\n",
    "top_result = crispr_results[0]\n",
    "blast_hits = get_blast2(top_result)\n",
    "\n",
    "\n",
    "for item in blast_hits[0]:\n",
    "    pdbdesc = describe_pdb(item)\n",
    "    print(pdbdesc['title'])"
   ]
  },
  {
   "cell_type": "markdown",
   "metadata": {},
   "source": [
    "### Estimate total number of depositions versus time"
   ]
  },
  {
   "cell_type": "code",
   "execution_count": 4,
   "metadata": {},
   "outputs": [
    {
     "data": {
      "image/png": "[encoded data removed]",
      "text/plain": [
       "<Figure size 432x288 with 1 Axes>"
      ]
     },
     "metadata": {
      "needs_background": "light"
     },
     "output_type": "display_data"
    },
    {
     "data": {
      "image/png": "[encoded data removed]",
      "text/plain": [
       "<Figure size 432x288 with 1 Axes>"
      ]
     },
     "metadata": {
      "needs_background": "light"
     },
     "output_type": "display_data"
    }
   ],
   "source": [
    "# Choose a random sample because we don't want to call the database for every single entry\n",
    "from random import choice\n",
    "\n",
    "all_pdbs = get_all()\n",
    "\n",
    "all_dates = list()\n",
    "\n",
    "for ii in range(100):\n",
    "    pdb_desc = describe_pdb( choice(all_pdbs) )\n",
    "    depdate = (pdb_desc['deposition_date'])\n",
    "    all_dates.append( int(depdate[:4]) )\n",
    "    \n",
    "all_dates = array(all_dates)\n",
    "\n",
    "figure()\n",
    "subs_v_time = hist(all_dates, max(all_dates)-min(all_dates))\n",
    "show(subs_v_time)   \n",
    "\n",
    "# Show power-law scaling\n",
    "figure()\n",
    "subs_v_time_loglog = loglog(subs_v_time[0],'.')\n",
    "show(subs_v_time_loglog)"
   ]
  },
  {
   "cell_type": "markdown",
   "metadata": {},
   "source": [
    "### Graph new CRISPR entries versus time"
   ]
  },
  {
   "cell_type": "code",
   "execution_count": 11,
   "metadata": {},
   "outputs": [
    {
     "name": "stdout",
     "output_type": "stream",
     "text": [
      "Help on function find_dates in module pypdb:\n",
      "\n",
      "find_dates(search_term, **kwargs)\n",
      "    Return an ordered list of the PDB submission dates returned by a\n",
      "    keyword search of the RCSB PDB. This can be used to assess the\n",
      "    popularity of a gievne keyword or topic\n",
      "    \n",
      "    Parameters\n",
      "    ----------\n",
      "    \n",
      "    search_term : str\n",
      "        The search keyword\n",
      "    \n",
      "    max_results : int\n",
      "        The maximum number of results to return\n",
      "    \n",
      "    Returns\n",
      "    -------\n",
      "    \n",
      "    all_dates : list of str\n",
      "        A list of calendar strings associated with the search term, these can\n",
      "        be converted directly into time or datetime objects\n",
      "\n"
     ]
    }
   ],
   "source": [
    "help(find_dates)"
   ]
  },
  {
   "cell_type": "code",
   "execution_count": 15,
   "metadata": {},
   "outputs": [
    {
     "data": {
      "image/png": "[encoded data removed]",
      "text/plain": [
       "<Figure size 432x288 with 1 Axes>"
      ]
     },
     "metadata": {
      "needs_background": "light"
     },
     "output_type": "display_data"
    }
   ],
   "source": [
    "# Perform search\n",
    "all_dates = find_dates('crispr', max_results=100)\n",
    "all_dates = array(all_dates)\n",
    "all_dates = array([int(depdate[:4]) for depdate in all_dates])\n",
    "subs_v_time = histogram(all_dates, max(all_dates)-min(all_dates))\n",
    "dates, num_entries = subs_v_time[1][1:], subs_v_time[0]\n",
    "popgraph = fill_between(dates, 0, num_entries)\n",
    "\n",
    "# Formatting the plots\n",
    "xlim([dates[0], dates[-1]] )\n",
    "gca().xaxis.set_major_formatter(FormatStrFormatter('%d'))\n",
    "xticks(fontweight='bold')\n",
    "yticks(fontweight='bold')\n",
    "xlabel('Year',fontweight='bold')\n",
    "ylabel('New PDB entries',fontweight='bold')\n",
    "show(popgraph)"
   ]
  },
  {
   "cell_type": "markdown",
   "metadata": {},
   "source": [
    "### Sweep RMSD matching parameters"
   ]
  },
  {
   "cell_type": "code",
   "execution_count": 21,
   "metadata": {},
   "outputs": [
    {
     "data": {
      "image/png": "[encoded data removed]",
      "text/plain": [
       "<Figure size 432x288 with 1 Axes>"
      ]
     },
     "metadata": {
      "needs_background": "light"
     },
     "output_type": "display_data"
    }
   ],
   "source": [
    "point_group = 'C1'\n",
    "max_distance = 5.0\n",
    "npts = 20\n",
    "\n",
    "dist_vals = linspace(0.0, max_distance, npts)\n",
    "dx = dist_vals[1]-dist_vals[0]\n",
    "\n",
    "all_ids = []\n",
    "\n",
    "for dist_val in dist_vals:\n",
    "    idlist = do_protsym_search(point_group, min_rmsd=dist_val, max_rmsd=(dist_val+dx))\n",
    "    all_ids.append(idlist)\n",
    "counts = array([len(item) for item in all_ids])\n",
    "\n",
    "\n",
    "fig = semilogy(dist_vals, counts)\n",
    "title('Total results versus RMSD')\n",
    "xlabel('Radius (A)')\n",
    "ylabel('Number of results')\n",
    "show(fig)"
   ]
  },
  {
   "cell_type": "markdown",
   "metadata": {},
   "source": [
    "### Find all associated organisms and structure types for the results of a BLAST search"
   ]
  },
  {
   "cell_type": "code",
   "execution_count": 7,
   "metadata": {},
   "outputs": [
    {
     "name": "stdout",
     "output_type": "stream",
     "text": [
      "['Thunnus thynnus',\n",
      " 'Thunnus thynnus',\n",
      " 'Thunnus thynnus',\n",
      " 'Trematomus bernacchii',\n",
      " 'Trematomus bernacchii']\n",
      "['protein', 'protein', 'protein', 'protein', 'protein']\n"
     ]
    }
   ],
   "source": [
    "# Search for PDB IDs related to CRISPR\n",
    "crispr_query = Query('crispr').search()\n",
    "\n",
    "# Run BLAST on the top result\n",
    "top_result = crispr_results[0]\n",
    "blast_hits = get_blast2(top_result)\n",
    "\n",
    "# Print list of associated taxa\n",
    "pprint.pprint(list_taxa(blast_hits[0][:5]))\n",
    "pprint.pprint(list_types(blast_hits[0][:5]))"
   ]
  },
  {
   "cell_type": "code",
   "execution_count": null,
   "metadata": {
    "collapsed": true
   },
   "outputs": [],
   "source": []
  }
 ],
 "metadata": {
  "kernelspec": {
   "display_name": "Python 3",
   "language": "python",
   "name": "python3"
  },
  "language_info": {
   "codemirror_mode": {
    "name": "ipython",
    "version": 3
   },
   "file_extension": ".py",
   "mimetype": "text/x-python",
   "name": "python",
   "nbconvert_exporter": "python",
   "pygments_lexer": "ipython3",
   "version": "3.7.4"
  }
 },
 "nbformat": 4,
 "nbformat_minor": 1
}
